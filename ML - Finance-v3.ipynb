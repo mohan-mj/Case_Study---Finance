{
  "nbformat": 4,
  "nbformat_minor": 0,
  "metadata": {
    "kernelspec": {
      "display_name": "Python 3",
      "language": "python",
      "name": "python3"
    },
    "language_info": {
      "codemirror_mode": {
        "name": "ipython",
        "version": 3
      },
      "file_extension": ".py",
      "mimetype": "text/x-python",
      "name": "python",
      "nbconvert_exporter": "python",
      "pygments_lexer": "ipython3",
      "version": "3.5.4"
    },
    "colab": {
      "name": "ML - Finance-v3.ipynb",
      "provenance": [],
      "include_colab_link": true
    }
  },
  "cells": [
    {
      "cell_type": "markdown",
      "metadata": {
        "id": "view-in-github",
        "colab_type": "text"
      },
      "source": [
        "<a href=\"https://colab.research.google.com/github/mohan-mj/Case_Study---Finance/blob/master/ML%20-%20Finance-v3.ipynb\" target=\"_parent\"><img src=\"https://colab.research.google.com/assets/colab-badge.svg\" alt=\"Open In Colab\"/></a>"
      ]
    },
    {
      "cell_type": "code",
      "metadata": {
        "id": "08C9s7TWeCT5",
        "colab_type": "code",
        "colab": {}
      },
      "source": [
        "import pandas as pd\n",
        "import matplotlib.pyplot as plt\n",
        "import numpy as np\n",
        "import seaborn as sns"
      ],
      "execution_count": 0,
      "outputs": []
    },
    {
      "cell_type": "code",
      "metadata": {
        "id": "NX7B5hCseCUB",
        "colab_type": "code",
        "colab": {
          "base_uri": "https://localhost:8080/",
          "height": 363
        },
        "outputId": "d199de4e-5e6b-4bee-f559-91bc030575f6"
      },
      "source": [
        "#dataset = pd.read_csv('financial_data.csv')\n",
        "dataset = pd.read_csv('https://raw.githubusercontent.com/mohan-mj/Case_Study---Finance/master/financial_data.csv')\n",
        "dataset.head(10)"
      ],
      "execution_count": 2,
      "outputs": [
        {
          "output_type": "execute_result",
          "data": {
            "text/html": [
              "<div>\n",
              "<style scoped>\n",
              "    .dataframe tbody tr th:only-of-type {\n",
              "        vertical-align: middle;\n",
              "    }\n",
              "\n",
              "    .dataframe tbody tr th {\n",
              "        vertical-align: top;\n",
              "    }\n",
              "\n",
              "    .dataframe thead th {\n",
              "        text-align: right;\n",
              "    }\n",
              "</style>\n",
              "<table border=\"1\" class=\"dataframe\">\n",
              "  <thead>\n",
              "    <tr style=\"text-align: right;\">\n",
              "      <th></th>\n",
              "      <th>entry_id</th>\n",
              "      <th>age</th>\n",
              "      <th>pay_schedule</th>\n",
              "      <th>home_owner</th>\n",
              "      <th>income</th>\n",
              "      <th>months_employed</th>\n",
              "      <th>years_employed</th>\n",
              "      <th>current_address_year</th>\n",
              "      <th>personal_account_m</th>\n",
              "      <th>personal_account_y</th>\n",
              "      <th>has_debt</th>\n",
              "      <th>amount_requested</th>\n",
              "      <th>risk_score</th>\n",
              "      <th>risk_score_2</th>\n",
              "      <th>risk_score_3</th>\n",
              "      <th>risk_score_4</th>\n",
              "      <th>risk_score_5</th>\n",
              "      <th>ext_quality_score</th>\n",
              "      <th>ext_quality_score_2</th>\n",
              "      <th>inquiries_last_month</th>\n",
              "      <th>e_signed</th>\n",
              "    </tr>\n",
              "  </thead>\n",
              "  <tbody>\n",
              "    <tr>\n",
              "      <th>0</th>\n",
              "      <td>7629673</td>\n",
              "      <td>40</td>\n",
              "      <td>bi-weekly</td>\n",
              "      <td>1</td>\n",
              "      <td>3135</td>\n",
              "      <td>0</td>\n",
              "      <td>3</td>\n",
              "      <td>3</td>\n",
              "      <td>6</td>\n",
              "      <td>2</td>\n",
              "      <td>1</td>\n",
              "      <td>550</td>\n",
              "      <td>36200</td>\n",
              "      <td>0.737398</td>\n",
              "      <td>0.903517</td>\n",
              "      <td>0.487712</td>\n",
              "      <td>0.515977</td>\n",
              "      <td>0.580918</td>\n",
              "      <td>0.380918</td>\n",
              "      <td>10</td>\n",
              "      <td>1</td>\n",
              "    </tr>\n",
              "    <tr>\n",
              "      <th>1</th>\n",
              "      <td>3560428</td>\n",
              "      <td>61</td>\n",
              "      <td>weekly</td>\n",
              "      <td>0</td>\n",
              "      <td>3180</td>\n",
              "      <td>0</td>\n",
              "      <td>6</td>\n",
              "      <td>3</td>\n",
              "      <td>2</td>\n",
              "      <td>7</td>\n",
              "      <td>1</td>\n",
              "      <td>600</td>\n",
              "      <td>30150</td>\n",
              "      <td>0.738510</td>\n",
              "      <td>0.881027</td>\n",
              "      <td>0.713423</td>\n",
              "      <td>0.826402</td>\n",
              "      <td>0.730720</td>\n",
              "      <td>0.630720</td>\n",
              "      <td>9</td>\n",
              "      <td>0</td>\n",
              "    </tr>\n",
              "    <tr>\n",
              "      <th>2</th>\n",
              "      <td>6934997</td>\n",
              "      <td>23</td>\n",
              "      <td>weekly</td>\n",
              "      <td>0</td>\n",
              "      <td>1540</td>\n",
              "      <td>6</td>\n",
              "      <td>0</td>\n",
              "      <td>0</td>\n",
              "      <td>7</td>\n",
              "      <td>1</td>\n",
              "      <td>1</td>\n",
              "      <td>450</td>\n",
              "      <td>34550</td>\n",
              "      <td>0.642993</td>\n",
              "      <td>0.766554</td>\n",
              "      <td>0.595018</td>\n",
              "      <td>0.762284</td>\n",
              "      <td>0.531712</td>\n",
              "      <td>0.531712</td>\n",
              "      <td>7</td>\n",
              "      <td>0</td>\n",
              "    </tr>\n",
              "    <tr>\n",
              "      <th>3</th>\n",
              "      <td>5682812</td>\n",
              "      <td>40</td>\n",
              "      <td>bi-weekly</td>\n",
              "      <td>0</td>\n",
              "      <td>5230</td>\n",
              "      <td>0</td>\n",
              "      <td>6</td>\n",
              "      <td>1</td>\n",
              "      <td>2</td>\n",
              "      <td>7</td>\n",
              "      <td>1</td>\n",
              "      <td>700</td>\n",
              "      <td>42150</td>\n",
              "      <td>0.665224</td>\n",
              "      <td>0.960832</td>\n",
              "      <td>0.767828</td>\n",
              "      <td>0.778831</td>\n",
              "      <td>0.792552</td>\n",
              "      <td>0.592552</td>\n",
              "      <td>8</td>\n",
              "      <td>1</td>\n",
              "    </tr>\n",
              "    <tr>\n",
              "      <th>4</th>\n",
              "      <td>5335819</td>\n",
              "      <td>33</td>\n",
              "      <td>semi-monthly</td>\n",
              "      <td>0</td>\n",
              "      <td>3590</td>\n",
              "      <td>0</td>\n",
              "      <td>5</td>\n",
              "      <td>2</td>\n",
              "      <td>2</td>\n",
              "      <td>8</td>\n",
              "      <td>1</td>\n",
              "      <td>1100</td>\n",
              "      <td>53850</td>\n",
              "      <td>0.617361</td>\n",
              "      <td>0.857560</td>\n",
              "      <td>0.613487</td>\n",
              "      <td>0.665523</td>\n",
              "      <td>0.744634</td>\n",
              "      <td>0.744634</td>\n",
              "      <td>12</td>\n",
              "      <td>0</td>\n",
              "    </tr>\n",
              "    <tr>\n",
              "      <th>5</th>\n",
              "      <td>8492423</td>\n",
              "      <td>21</td>\n",
              "      <td>weekly</td>\n",
              "      <td>0</td>\n",
              "      <td>2303</td>\n",
              "      <td>0</td>\n",
              "      <td>5</td>\n",
              "      <td>8</td>\n",
              "      <td>2</td>\n",
              "      <td>7</td>\n",
              "      <td>1</td>\n",
              "      <td>600</td>\n",
              "      <td>74850</td>\n",
              "      <td>0.677109</td>\n",
              "      <td>0.758765</td>\n",
              "      <td>0.495609</td>\n",
              "      <td>0.664762</td>\n",
              "      <td>0.592556</td>\n",
              "      <td>0.492556</td>\n",
              "      <td>6</td>\n",
              "      <td>1</td>\n",
              "    </tr>\n",
              "    <tr>\n",
              "      <th>6</th>\n",
              "      <td>7948313</td>\n",
              "      <td>26</td>\n",
              "      <td>bi-weekly</td>\n",
              "      <td>0</td>\n",
              "      <td>2795</td>\n",
              "      <td>0</td>\n",
              "      <td>4</td>\n",
              "      <td>4</td>\n",
              "      <td>1</td>\n",
              "      <td>6</td>\n",
              "      <td>1</td>\n",
              "      <td>800</td>\n",
              "      <td>50800</td>\n",
              "      <td>0.738055</td>\n",
              "      <td>0.873204</td>\n",
              "      <td>0.666437</td>\n",
              "      <td>0.700392</td>\n",
              "      <td>0.584130</td>\n",
              "      <td>0.684130</td>\n",
              "      <td>14</td>\n",
              "      <td>1</td>\n",
              "    </tr>\n",
              "    <tr>\n",
              "      <th>7</th>\n",
              "      <td>4297036</td>\n",
              "      <td>43</td>\n",
              "      <td>bi-weekly</td>\n",
              "      <td>0</td>\n",
              "      <td>5000</td>\n",
              "      <td>0</td>\n",
              "      <td>2</td>\n",
              "      <td>1</td>\n",
              "      <td>1</td>\n",
              "      <td>2</td>\n",
              "      <td>1</td>\n",
              "      <td>1100</td>\n",
              "      <td>69100</td>\n",
              "      <td>0.798303</td>\n",
              "      <td>0.841747</td>\n",
              "      <td>0.401971</td>\n",
              "      <td>0.568787</td>\n",
              "      <td>0.525905</td>\n",
              "      <td>0.725905</td>\n",
              "      <td>5</td>\n",
              "      <td>1</td>\n",
              "    </tr>\n",
              "    <tr>\n",
              "      <th>8</th>\n",
              "      <td>6493191</td>\n",
              "      <td>32</td>\n",
              "      <td>semi-monthly</td>\n",
              "      <td>0</td>\n",
              "      <td>5260</td>\n",
              "      <td>3</td>\n",
              "      <td>0</td>\n",
              "      <td>3</td>\n",
              "      <td>1</td>\n",
              "      <td>4</td>\n",
              "      <td>1</td>\n",
              "      <td>1150</td>\n",
              "      <td>64050</td>\n",
              "      <td>0.652429</td>\n",
              "      <td>0.802433</td>\n",
              "      <td>0.593816</td>\n",
              "      <td>0.560389</td>\n",
              "      <td>0.569459</td>\n",
              "      <td>0.369459</td>\n",
              "      <td>3</td>\n",
              "      <td>1</td>\n",
              "    </tr>\n",
              "    <tr>\n",
              "      <th>9</th>\n",
              "      <td>8908605</td>\n",
              "      <td>51</td>\n",
              "      <td>bi-weekly</td>\n",
              "      <td>1</td>\n",
              "      <td>3055</td>\n",
              "      <td>0</td>\n",
              "      <td>6</td>\n",
              "      <td>11</td>\n",
              "      <td>4</td>\n",
              "      <td>2</td>\n",
              "      <td>1</td>\n",
              "      <td>600</td>\n",
              "      <td>59750</td>\n",
              "      <td>0.624666</td>\n",
              "      <td>0.968565</td>\n",
              "      <td>0.509919</td>\n",
              "      <td>0.749624</td>\n",
              "      <td>0.758607</td>\n",
              "      <td>0.758607</td>\n",
              "      <td>5</td>\n",
              "      <td>1</td>\n",
              "    </tr>\n",
              "  </tbody>\n",
              "</table>\n",
              "</div>"
            ],
            "text/plain": [
              "   entry_id  age  ... inquiries_last_month  e_signed\n",
              "0   7629673   40  ...                   10         1\n",
              "1   3560428   61  ...                    9         0\n",
              "2   6934997   23  ...                    7         0\n",
              "3   5682812   40  ...                    8         1\n",
              "4   5335819   33  ...                   12         0\n",
              "5   8492423   21  ...                    6         1\n",
              "6   7948313   26  ...                   14         1\n",
              "7   4297036   43  ...                    5         1\n",
              "8   6493191   32  ...                    3         1\n",
              "9   8908605   51  ...                    5         1\n",
              "\n",
              "[10 rows x 21 columns]"
            ]
          },
          "metadata": {
            "tags": []
          },
          "execution_count": 2
        }
      ]
    },
    {
      "cell_type": "code",
      "metadata": {
        "id": "1WaSprV7eCUI",
        "colab_type": "code",
        "colab": {
          "base_uri": "https://localhost:8080/",
          "height": 34
        },
        "outputId": "8528b372-b913-4f07-daa4-d1596b095bfe"
      },
      "source": [
        "dataset.shape"
      ],
      "execution_count": 3,
      "outputs": [
        {
          "output_type": "execute_result",
          "data": {
            "text/plain": [
              "(17908, 21)"
            ]
          },
          "metadata": {
            "tags": []
          },
          "execution_count": 3
        }
      ]
    },
    {
      "cell_type": "code",
      "metadata": {
        "id": "aHRYEmmaeCUQ",
        "colab_type": "code",
        "colab": {
          "base_uri": "https://localhost:8080/",
          "height": 134
        },
        "outputId": "9eae21c0-440d-4dcd-f215-5d61f556afb5"
      },
      "source": [
        "dataset.columns"
      ],
      "execution_count": 4,
      "outputs": [
        {
          "output_type": "execute_result",
          "data": {
            "text/plain": [
              "Index(['entry_id', 'age', 'pay_schedule', 'home_owner', 'income',\n",
              "       'months_employed', 'years_employed', 'current_address_year',\n",
              "       'personal_account_m', 'personal_account_y', 'has_debt',\n",
              "       'amount_requested', 'risk_score', 'risk_score_2', 'risk_score_3',\n",
              "       'risk_score_4', 'risk_score_5', 'ext_quality_score',\n",
              "       'ext_quality_score_2', 'inquiries_last_month', 'e_signed'],\n",
              "      dtype='object')"
            ]
          },
          "metadata": {
            "tags": []
          },
          "execution_count": 4
        }
      ]
    },
    {
      "cell_type": "code",
      "metadata": {
        "id": "8XvNWofVeCUW",
        "colab_type": "code",
        "colab": {
          "base_uri": "https://localhost:8080/",
          "height": 304
        },
        "outputId": "5dfb7534-0198-4542-96cc-d740c3b8c174"
      },
      "source": [
        "dataset.describe()"
      ],
      "execution_count": 5,
      "outputs": [
        {
          "output_type": "execute_result",
          "data": {
            "text/html": [
              "<div>\n",
              "<style scoped>\n",
              "    .dataframe tbody tr th:only-of-type {\n",
              "        vertical-align: middle;\n",
              "    }\n",
              "\n",
              "    .dataframe tbody tr th {\n",
              "        vertical-align: top;\n",
              "    }\n",
              "\n",
              "    .dataframe thead th {\n",
              "        text-align: right;\n",
              "    }\n",
              "</style>\n",
              "<table border=\"1\" class=\"dataframe\">\n",
              "  <thead>\n",
              "    <tr style=\"text-align: right;\">\n",
              "      <th></th>\n",
              "      <th>entry_id</th>\n",
              "      <th>age</th>\n",
              "      <th>home_owner</th>\n",
              "      <th>income</th>\n",
              "      <th>months_employed</th>\n",
              "      <th>years_employed</th>\n",
              "      <th>current_address_year</th>\n",
              "      <th>personal_account_m</th>\n",
              "      <th>personal_account_y</th>\n",
              "      <th>has_debt</th>\n",
              "      <th>amount_requested</th>\n",
              "      <th>risk_score</th>\n",
              "      <th>risk_score_2</th>\n",
              "      <th>risk_score_3</th>\n",
              "      <th>risk_score_4</th>\n",
              "      <th>risk_score_5</th>\n",
              "      <th>ext_quality_score</th>\n",
              "      <th>ext_quality_score_2</th>\n",
              "      <th>inquiries_last_month</th>\n",
              "      <th>e_signed</th>\n",
              "    </tr>\n",
              "  </thead>\n",
              "  <tbody>\n",
              "    <tr>\n",
              "      <th>count</th>\n",
              "      <td>1.790800e+04</td>\n",
              "      <td>17908.000000</td>\n",
              "      <td>17908.000000</td>\n",
              "      <td>17908.000000</td>\n",
              "      <td>17908.000000</td>\n",
              "      <td>17908.000000</td>\n",
              "      <td>17908.000000</td>\n",
              "      <td>17908.000000</td>\n",
              "      <td>17908.000000</td>\n",
              "      <td>17908.000000</td>\n",
              "      <td>17908.000000</td>\n",
              "      <td>17908.000000</td>\n",
              "      <td>17908.000000</td>\n",
              "      <td>17908.000000</td>\n",
              "      <td>17908.000000</td>\n",
              "      <td>17908.000000</td>\n",
              "      <td>17908.000000</td>\n",
              "      <td>17908.000000</td>\n",
              "      <td>17908.000000</td>\n",
              "      <td>17908.000000</td>\n",
              "    </tr>\n",
              "    <tr>\n",
              "      <th>mean</th>\n",
              "      <td>5.596978e+06</td>\n",
              "      <td>43.015412</td>\n",
              "      <td>0.425173</td>\n",
              "      <td>3657.214653</td>\n",
              "      <td>1.186006</td>\n",
              "      <td>3.526860</td>\n",
              "      <td>3.584711</td>\n",
              "      <td>3.427183</td>\n",
              "      <td>3.503350</td>\n",
              "      <td>0.795399</td>\n",
              "      <td>950.446449</td>\n",
              "      <td>61086.302211</td>\n",
              "      <td>0.690878</td>\n",
              "      <td>0.878276</td>\n",
              "      <td>0.583155</td>\n",
              "      <td>0.718252</td>\n",
              "      <td>0.623112</td>\n",
              "      <td>0.622068</td>\n",
              "      <td>6.457226</td>\n",
              "      <td>0.538251</td>\n",
              "    </tr>\n",
              "    <tr>\n",
              "      <th>std</th>\n",
              "      <td>2.562473e+06</td>\n",
              "      <td>11.873107</td>\n",
              "      <td>0.494383</td>\n",
              "      <td>1504.890063</td>\n",
              "      <td>2.400897</td>\n",
              "      <td>2.259732</td>\n",
              "      <td>2.751937</td>\n",
              "      <td>2.216440</td>\n",
              "      <td>1.955568</td>\n",
              "      <td>0.403421</td>\n",
              "      <td>698.543683</td>\n",
              "      <td>15394.255020</td>\n",
              "      <td>0.090470</td>\n",
              "      <td>0.054563</td>\n",
              "      <td>0.125061</td>\n",
              "      <td>0.120697</td>\n",
              "      <td>0.139729</td>\n",
              "      <td>0.139898</td>\n",
              "      <td>3.673093</td>\n",
              "      <td>0.498549</td>\n",
              "    </tr>\n",
              "    <tr>\n",
              "      <th>min</th>\n",
              "      <td>1.111398e+06</td>\n",
              "      <td>18.000000</td>\n",
              "      <td>0.000000</td>\n",
              "      <td>905.000000</td>\n",
              "      <td>0.000000</td>\n",
              "      <td>0.000000</td>\n",
              "      <td>0.000000</td>\n",
              "      <td>0.000000</td>\n",
              "      <td>0.000000</td>\n",
              "      <td>0.000000</td>\n",
              "      <td>350.000000</td>\n",
              "      <td>2100.000000</td>\n",
              "      <td>0.023258</td>\n",
              "      <td>0.451371</td>\n",
              "      <td>0.016724</td>\n",
              "      <td>0.153367</td>\n",
              "      <td>0.010184</td>\n",
              "      <td>0.006622</td>\n",
              "      <td>1.000000</td>\n",
              "      <td>0.000000</td>\n",
              "    </tr>\n",
              "    <tr>\n",
              "      <th>25%</th>\n",
              "      <td>3.378999e+06</td>\n",
              "      <td>34.000000</td>\n",
              "      <td>0.000000</td>\n",
              "      <td>2580.000000</td>\n",
              "      <td>0.000000</td>\n",
              "      <td>2.000000</td>\n",
              "      <td>2.000000</td>\n",
              "      <td>2.000000</td>\n",
              "      <td>2.000000</td>\n",
              "      <td>1.000000</td>\n",
              "      <td>600.000000</td>\n",
              "      <td>49350.000000</td>\n",
              "      <td>0.640993</td>\n",
              "      <td>0.850882</td>\n",
              "      <td>0.500208</td>\n",
              "      <td>0.633708</td>\n",
              "      <td>0.521735</td>\n",
              "      <td>0.519677</td>\n",
              "      <td>4.000000</td>\n",
              "      <td>0.000000</td>\n",
              "    </tr>\n",
              "    <tr>\n",
              "      <th>50%</th>\n",
              "      <td>5.608376e+06</td>\n",
              "      <td>42.000000</td>\n",
              "      <td>0.000000</td>\n",
              "      <td>3260.000000</td>\n",
              "      <td>0.000000</td>\n",
              "      <td>3.000000</td>\n",
              "      <td>3.000000</td>\n",
              "      <td>2.000000</td>\n",
              "      <td>3.000000</td>\n",
              "      <td>1.000000</td>\n",
              "      <td>700.000000</td>\n",
              "      <td>61200.000000</td>\n",
              "      <td>0.699561</td>\n",
              "      <td>0.881004</td>\n",
              "      <td>0.588208</td>\n",
              "      <td>0.725113</td>\n",
              "      <td>0.625944</td>\n",
              "      <td>0.622974</td>\n",
              "      <td>6.000000</td>\n",
              "      <td>1.000000</td>\n",
              "    </tr>\n",
              "    <tr>\n",
              "      <th>75%</th>\n",
              "      <td>7.805624e+06</td>\n",
              "      <td>51.000000</td>\n",
              "      <td>1.000000</td>\n",
              "      <td>4670.000000</td>\n",
              "      <td>1.000000</td>\n",
              "      <td>5.000000</td>\n",
              "      <td>5.000000</td>\n",
              "      <td>5.000000</td>\n",
              "      <td>4.000000</td>\n",
              "      <td>1.000000</td>\n",
              "      <td>1100.000000</td>\n",
              "      <td>72750.000000</td>\n",
              "      <td>0.752887</td>\n",
              "      <td>0.912608</td>\n",
              "      <td>0.672395</td>\n",
              "      <td>0.806681</td>\n",
              "      <td>0.729841</td>\n",
              "      <td>0.728940</td>\n",
              "      <td>8.000000</td>\n",
              "      <td>1.000000</td>\n",
              "    </tr>\n",
              "    <tr>\n",
              "      <th>max</th>\n",
              "      <td>9.999874e+06</td>\n",
              "      <td>96.000000</td>\n",
              "      <td>1.000000</td>\n",
              "      <td>9985.000000</td>\n",
              "      <td>11.000000</td>\n",
              "      <td>16.000000</td>\n",
              "      <td>12.000000</td>\n",
              "      <td>11.000000</td>\n",
              "      <td>15.000000</td>\n",
              "      <td>1.000000</td>\n",
              "      <td>10200.000000</td>\n",
              "      <td>99750.000000</td>\n",
              "      <td>0.999997</td>\n",
              "      <td>0.999024</td>\n",
              "      <td>0.978932</td>\n",
              "      <td>0.996260</td>\n",
              "      <td>0.970249</td>\n",
              "      <td>0.966953</td>\n",
              "      <td>30.000000</td>\n",
              "      <td>1.000000</td>\n",
              "    </tr>\n",
              "  </tbody>\n",
              "</table>\n",
              "</div>"
            ],
            "text/plain": [
              "           entry_id           age  ...  inquiries_last_month      e_signed\n",
              "count  1.790800e+04  17908.000000  ...          17908.000000  17908.000000\n",
              "mean   5.596978e+06     43.015412  ...              6.457226      0.538251\n",
              "std    2.562473e+06     11.873107  ...              3.673093      0.498549\n",
              "min    1.111398e+06     18.000000  ...              1.000000      0.000000\n",
              "25%    3.378999e+06     34.000000  ...              4.000000      0.000000\n",
              "50%    5.608376e+06     42.000000  ...              6.000000      1.000000\n",
              "75%    7.805624e+06     51.000000  ...              8.000000      1.000000\n",
              "max    9.999874e+06     96.000000  ...             30.000000      1.000000\n",
              "\n",
              "[8 rows x 20 columns]"
            ]
          },
          "metadata": {
            "tags": []
          },
          "execution_count": 5
        }
      ]
    },
    {
      "cell_type": "markdown",
      "metadata": {
        "id": "ICfs-HoAeCUc",
        "colab_type": "text"
      },
      "source": [
        "### Preprocessing"
      ]
    },
    {
      "cell_type": "code",
      "metadata": {
        "id": "xAuvW8uKeCUf",
        "colab_type": "code",
        "colab": {
          "base_uri": "https://localhost:8080/",
          "height": 386
        },
        "outputId": "7e75ee87-b5b5-47bf-aa96-388d3773a5ea"
      },
      "source": [
        "# Removing NaN\n",
        "dataset.isna().any()"
      ],
      "execution_count": 6,
      "outputs": [
        {
          "output_type": "execute_result",
          "data": {
            "text/plain": [
              "entry_id                False\n",
              "age                     False\n",
              "pay_schedule            False\n",
              "home_owner              False\n",
              "income                  False\n",
              "months_employed         False\n",
              "years_employed          False\n",
              "current_address_year    False\n",
              "personal_account_m      False\n",
              "personal_account_y      False\n",
              "has_debt                False\n",
              "amount_requested        False\n",
              "risk_score              False\n",
              "risk_score_2            False\n",
              "risk_score_3            False\n",
              "risk_score_4            False\n",
              "risk_score_5            False\n",
              "ext_quality_score       False\n",
              "ext_quality_score_2     False\n",
              "inquiries_last_month    False\n",
              "e_signed                False\n",
              "dtype: bool"
            ]
          },
          "metadata": {
            "tags": []
          },
          "execution_count": 6
        }
      ]
    },
    {
      "cell_type": "code",
      "metadata": {
        "id": "CskBLf9QeCUl",
        "colab_type": "code",
        "colab": {
          "base_uri": "https://localhost:8080/",
          "height": 454
        },
        "outputId": "9bdc5443-e9f9-4036-9864-4af2c5f73524"
      },
      "source": [
        "dataset.info()"
      ],
      "execution_count": 7,
      "outputs": [
        {
          "output_type": "stream",
          "text": [
            "<class 'pandas.core.frame.DataFrame'>\n",
            "RangeIndex: 17908 entries, 0 to 17907\n",
            "Data columns (total 21 columns):\n",
            "entry_id                17908 non-null int64\n",
            "age                     17908 non-null int64\n",
            "pay_schedule            17908 non-null object\n",
            "home_owner              17908 non-null int64\n",
            "income                  17908 non-null int64\n",
            "months_employed         17908 non-null int64\n",
            "years_employed          17908 non-null int64\n",
            "current_address_year    17908 non-null int64\n",
            "personal_account_m      17908 non-null int64\n",
            "personal_account_y      17908 non-null int64\n",
            "has_debt                17908 non-null int64\n",
            "amount_requested        17908 non-null int64\n",
            "risk_score              17908 non-null int64\n",
            "risk_score_2            17908 non-null float64\n",
            "risk_score_3            17908 non-null float64\n",
            "risk_score_4            17908 non-null float64\n",
            "risk_score_5            17908 non-null float64\n",
            "ext_quality_score       17908 non-null float64\n",
            "ext_quality_score_2     17908 non-null float64\n",
            "inquiries_last_month    17908 non-null int64\n",
            "e_signed                17908 non-null int64\n",
            "dtypes: float64(6), int64(14), object(1)\n",
            "memory usage: 2.9+ MB\n"
          ],
          "name": "stdout"
        }
      ]
    },
    {
      "cell_type": "markdown",
      "metadata": {
        "id": "AbWQnTxXeCU2",
        "colab_type": "text"
      },
      "source": [
        "### Histograms"
      ]
    },
    {
      "cell_type": "code",
      "metadata": {
        "id": "MEnaJiR8eCU5",
        "colab_type": "code",
        "colab": {
          "base_uri": "https://localhost:8080/",
          "height": 861
        },
        "outputId": "9e6606e5-61ff-4fcc-ae20-0b19ee7d9356"
      },
      "source": [
        "dataset2 = dataset.drop(columns = ['entry_id', 'pay_schedule', 'e_signed'])\n",
        "\n",
        "fig = plt.figure(figsize=(15, 12))\n",
        "plt.suptitle('Histograms of Numerical Columns', fontsize=20)\n",
        "\n",
        "for i in range(dataset2.shape[1]):\n",
        "    plt.subplot(6, 3, i + 1)\n",
        "    f = plt.gca()\n",
        "    f.set_title(dataset2.columns.values[i])\n",
        "\n",
        "    vals = np.size(dataset2.iloc[:, i].unique())\n",
        "    if vals >= 100:\n",
        "        vals = 100\n",
        "    \n",
        "    plt.hist(dataset2.iloc[:, i], bins=vals, color='#3F5D7D')\n",
        "    #sns.distplot(dataset2.iloc[:, i], bins=vals)\n",
        "plt.tight_layout(rect=[0, 0.03, 1, 0.95])"
      ],
      "execution_count": 8,
      "outputs": [
        {
          "output_type": "display_data",
          "data": {
            "image/png": "[encoded data removed]",
            "text/plain": [
              "<Figure size 1080x864 with 18 Axes>"
            ]
          },
          "metadata": {
            "tags": []
          }
        }
      ]
    },
    {
      "cell_type": "markdown",
      "metadata": {
        "id": "3-yrbhvBeCVD",
        "colab_type": "text"
      },
      "source": [
        "### Correlation with Response Variable "
      ]
    },
    {
      "cell_type": "code",
      "metadata": {
        "id": "u-fa_TtceCVF",
        "colab_type": "code",
        "colab": {
          "base_uri": "https://localhost:8080/",
          "height": 761
        },
        "outputId": "d8c1567c-8f57-4b6c-cf89-e6181932cd04"
      },
      "source": [
        "dataset2.corrwith(dataset.e_signed).plot.bar(\n",
        "        figsize = (20, 10), title = \"Correlation with E Signed\", fontsize = 15,\n",
        "        rot = 45, grid = True)"
      ],
      "execution_count": 9,
      "outputs": [
        {
          "output_type": "execute_result",
          "data": {
            "text/plain": [
              "<matplotlib.axes._subplots.AxesSubplot at 0x7fa8c90fedd8>"
            ]
          },
          "metadata": {
            "tags": []
          },
          "execution_count": 9
        },
        {
          "output_type": "display_data",
          "data": {
            "image/png": "[encoded data removed]",
            "text/plain": [
              "<Figure size 1440x720 with 1 Axes>"
            ]
          },
          "metadata": {
            "tags": []
          }
        }
      ]
    },
    {
      "cell_type": "markdown",
      "metadata": {
        "id": "aZHBqixueCVO",
        "colab_type": "text"
      },
      "source": [
        "### Correlation Matrix"
      ]
    },
    {
      "cell_type": "code",
      "metadata": {
        "id": "3ahhp0ObeCVQ",
        "colab_type": "code",
        "colab": {
          "base_uri": "https://localhost:8080/",
          "height": 1000
        },
        "outputId": "5cd4bc62-395f-4417-fdcf-4297aa03698a"
      },
      "source": [
        "sns.set(style=\"white\")\n",
        "\n",
        "# Compute the correlation matrix\n",
        "corr = dataset2.corr()\n",
        "\n",
        "# Generate a mask for the upper triangle\n",
        "mask = np.zeros_like(corr, dtype=np.bool)\n",
        "mask[np.triu_indices_from(mask)] = True\n",
        "\n",
        "# Set up the matplotlib figure\n",
        "f, ax = plt.subplots(figsize=(18, 15))\n",
        "\n",
        "# Generate a custom diverging colormap\n",
        "cmap = sns.diverging_palette(220, 10, as_cmap=True)\n",
        "\n",
        "# Draw the heatmap with the mask and correct aspect ratio\n",
        "sns.heatmap(corr, mask=mask, cmap=cmap, vmax=.3, center=0,\n",
        "            square=True, linewidths=.5, cbar_kws={\"shrink\": .5}, annot =True)"
      ],
      "execution_count": 10,
      "outputs": [
        {
          "output_type": "execute_result",
          "data": {
            "text/plain": [
              "<matplotlib.axes._subplots.AxesSubplot at 0x7fa8c3ec3588>"
            ]
          },
          "metadata": {
            "tags": []
          },
          "execution_count": 10
        },
        {
          "output_type": "display_data",
          "data": {
            "image/png": "[encoded data removed]",
            "text/plain": [
              "<Figure size 1296x1080 with 2 Axes>"
            ]
          },
          "metadata": {
            "tags": []
          }
        }
      ]
    },
    {
      "cell_type": "code",
      "metadata": {
        "id": "tw43soBDeCVZ",
        "colab_type": "code",
        "colab": {}
      },
      "source": [
        "import random\n",
        "import time\n",
        "\n",
        "random.seed(100)"
      ],
      "execution_count": 0,
      "outputs": []
    },
    {
      "cell_type": "code",
      "metadata": {
        "id": "LD02fVy5eCVj",
        "colab_type": "code",
        "colab": {
          "base_uri": "https://localhost:8080/",
          "height": 195
        },
        "outputId": "80eb9fa2-6a3b-4f2b-e97b-cab97f5aa4c0"
      },
      "source": [
        "# Feature Engineering\n",
        "#dataset = pd.read_csv('financial_data.csv')\n",
        "dataset = pd.read_csv('https://raw.githubusercontent.com/mohan-mj/Case_Study---Finance/master/financial_data.csv')\n",
        "dataset = dataset.drop(columns = ['months_employed'])\n",
        "dataset['personal_account_months'] = (dataset.personal_account_m + (dataset.personal_account_y * 12))\n",
        "dataset[['personal_account_m', 'personal_account_y', 'personal_account_months']].head()"
      ],
      "execution_count": 11,
      "outputs": [
        {
          "output_type": "execute_result",
          "data": {
            "text/html": [
              "<div>\n",
              "<style scoped>\n",
              "    .dataframe tbody tr th:only-of-type {\n",
              "        vertical-align: middle;\n",
              "    }\n",
              "\n",
              "    .dataframe tbody tr th {\n",
              "        vertical-align: top;\n",
              "    }\n",
              "\n",
              "    .dataframe thead th {\n",
              "        text-align: right;\n",
              "    }\n",
              "</style>\n",
              "<table border=\"1\" class=\"dataframe\">\n",
              "  <thead>\n",
              "    <tr style=\"text-align: right;\">\n",
              "      <th></th>\n",
              "      <th>personal_account_m</th>\n",
              "      <th>personal_account_y</th>\n",
              "      <th>personal_account_months</th>\n",
              "    </tr>\n",
              "  </thead>\n",
              "  <tbody>\n",
              "    <tr>\n",
              "      <th>0</th>\n",
              "      <td>6</td>\n",
              "      <td>2</td>\n",
              "      <td>30</td>\n",
              "    </tr>\n",
              "    <tr>\n",
              "      <th>1</th>\n",
              "      <td>2</td>\n",
              "      <td>7</td>\n",
              "      <td>86</td>\n",
              "    </tr>\n",
              "    <tr>\n",
              "      <th>2</th>\n",
              "      <td>7</td>\n",
              "      <td>1</td>\n",
              "      <td>19</td>\n",
              "    </tr>\n",
              "    <tr>\n",
              "      <th>3</th>\n",
              "      <td>2</td>\n",
              "      <td>7</td>\n",
              "      <td>86</td>\n",
              "    </tr>\n",
              "    <tr>\n",
              "      <th>4</th>\n",
              "      <td>2</td>\n",
              "      <td>8</td>\n",
              "      <td>98</td>\n",
              "    </tr>\n",
              "  </tbody>\n",
              "</table>\n",
              "</div>"
            ],
            "text/plain": [
              "   personal_account_m  personal_account_y  personal_account_months\n",
              "0                   6                   2                       30\n",
              "1                   2                   7                       86\n",
              "2                   7                   1                       19\n",
              "3                   2                   7                       86\n",
              "4                   2                   8                       98"
            ]
          },
          "metadata": {
            "tags": []
          },
          "execution_count": 11
        }
      ]
    },
    {
      "cell_type": "code",
      "metadata": {
        "id": "lMg94QhEeCVs",
        "colab_type": "code",
        "colab": {}
      },
      "source": [
        "dataset = dataset.drop(columns = ['personal_account_m', 'personal_account_y'])"
      ],
      "execution_count": 0,
      "outputs": []
    },
    {
      "cell_type": "code",
      "metadata": {
        "id": "Z0fEW6TXeCV1",
        "colab_type": "code",
        "colab": {}
      },
      "source": [
        "# One Hot Encoding\n",
        "dataset = pd.get_dummies(dataset)\n",
        "dataset.columns\n",
        "dataset = dataset.drop(columns = ['pay_schedule_semi-monthly'])\n",
        "\n",
        "# Removing extra columns\n",
        "response = dataset[\"e_signed\"]\n",
        "users = dataset['entry_id']\n",
        "dataset = dataset.drop(columns = [\"e_signed\", \"entry_id\"])\n",
        "\n",
        "# Splitting into Train and Test Set\n",
        "from sklearn.model_selection import train_test_split\n",
        "X_train, X_test, y_train, y_test = train_test_split(dataset,\n",
        "                                                    response,\n",
        "                                                    test_size = 0.2,\n",
        "                                                    random_state = 0)"
      ],
      "execution_count": 0,
      "outputs": []
    },
    {
      "cell_type": "code",
      "metadata": {
        "id": "0jfXJk2jeCWZ",
        "colab_type": "code",
        "colab": {
          "base_uri": "https://localhost:8080/",
          "height": 134
        },
        "outputId": "b228cdef-5982-4ce5-9be8-09f727e4400a"
      },
      "source": [
        "dataset.columns"
      ],
      "execution_count": 15,
      "outputs": [
        {
          "output_type": "execute_result",
          "data": {
            "text/plain": [
              "Index(['age', 'home_owner', 'income', 'years_employed', 'current_address_year',\n",
              "       'has_debt', 'amount_requested', 'risk_score', 'risk_score_2',\n",
              "       'risk_score_3', 'risk_score_4', 'risk_score_5', 'ext_quality_score',\n",
              "       'ext_quality_score_2', 'inquiries_last_month',\n",
              "       'personal_account_months', 'pay_schedule_bi-weekly',\n",
              "       'pay_schedule_monthly', 'pay_schedule_weekly'],\n",
              "      dtype='object')"
            ]
          },
          "metadata": {
            "tags": []
          },
          "execution_count": 15
        }
      ]
    },
    {
      "cell_type": "code",
      "metadata": {
        "id": "8qumy7lseCWg",
        "colab_type": "code",
        "colab": {}
      },
      "source": [
        "# Feature Scaling\n",
        "from sklearn.preprocessing import StandardScaler\n",
        "sc_X = StandardScaler()\n",
        "X_train2 = pd.DataFrame(sc_X.fit_transform(X_train))\n",
        "X_test2 = pd.DataFrame(sc_X.transform(X_test))\n",
        "X_train2.columns = X_train.columns.values\n",
        "X_test2.columns = X_test.columns.values\n",
        "X_train2.index = X_train.index.values\n",
        "X_test2.index = X_test.index.values\n",
        "X_train = X_train2\n",
        "X_test = X_test2"
      ],
      "execution_count": 0,
      "outputs": []
    },
    {
      "cell_type": "markdown",
      "metadata": {
        "id": "rVfl3IrneCWn",
        "colab_type": "text"
      },
      "source": [
        "### Logistic Regression"
      ]
    },
    {
      "cell_type": "code",
      "metadata": {
        "id": "FE9EhFIVeCWq",
        "colab_type": "code",
        "colab": {},
        "outputId": "d547098f-ec76-448f-ca43-de1f3e715531"
      },
      "source": [
        "from sklearn.linear_model import LogisticRegression\n",
        "classifier = LogisticRegression(random_state = 0, penalty = 'l1')\n",
        "classifier.fit(X_train, y_train)"
      ],
      "execution_count": 0,
      "outputs": [
        {
          "output_type": "execute_result",
          "data": {
            "text/plain": [
              "LogisticRegression(C=1.0, class_weight=None, dual=False, fit_intercept=True,\n",
              "          intercept_scaling=1, max_iter=100, multi_class='ovr', n_jobs=1,\n",
              "          penalty='l1', random_state=0, solver='liblinear', tol=0.0001,\n",
              "          verbose=0, warm_start=False)"
            ]
          },
          "metadata": {
            "tags": []
          },
          "execution_count": 42
        }
      ]
    },
    {
      "cell_type": "code",
      "metadata": {
        "id": "DaJ0HJbqeCW0",
        "colab_type": "code",
        "colab": {},
        "outputId": "a113f282-d688-496e-9893-594465a9a535"
      },
      "source": [
        "# Predicting Test Set\n",
        "y_pred = classifier.predict(X_test)\n",
        "from sklearn.metrics import confusion_matrix, accuracy_score, f1_score, precision_score, recall_score\n",
        "acc = accuracy_score(y_test, y_pred)\n",
        "prec = precision_score(y_test, y_pred)\n",
        "rec = recall_score(y_test, y_pred)\n",
        "f1 = f1_score(y_test, y_pred)\n",
        "\n",
        "results = pd.DataFrame([['Logistic Regression (Lasso)', acc, prec, rec, f1]],\n",
        "               columns = ['Model', 'Accuracy', 'Precision', 'Recall', 'F1 Score'])\n",
        "results"
      ],
      "execution_count": 0,
      "outputs": [
        {
          "output_type": "execute_result",
          "data": {
            "text/html": [
              "<div>\n",
              "<style scoped>\n",
              "    .dataframe tbody tr th:only-of-type {\n",
              "        vertical-align: middle;\n",
              "    }\n",
              "\n",
              "    .dataframe tbody tr th {\n",
              "        vertical-align: top;\n",
              "    }\n",
              "\n",
              "    .dataframe thead th {\n",
              "        text-align: right;\n",
              "    }\n",
              "</style>\n",
              "<table border=\"1\" class=\"dataframe\">\n",
              "  <thead>\n",
              "    <tr style=\"text-align: right;\">\n",
              "      <th></th>\n",
              "      <th>Model</th>\n",
              "      <th>Accuracy</th>\n",
              "      <th>Precision</th>\n",
              "      <th>Recall</th>\n",
              "      <th>F1 Score</th>\n",
              "    </tr>\n",
              "  </thead>\n",
              "  <tbody>\n",
              "    <tr>\n",
              "      <th>0</th>\n",
              "      <td>Logistic Regression (Lasso)</td>\n",
              "      <td>0.561977</td>\n",
              "      <td>0.575963</td>\n",
              "      <td>0.705913</td>\n",
              "      <td>0.634351</td>\n",
              "    </tr>\n",
              "  </tbody>\n",
              "</table>\n",
              "</div>"
            ],
            "text/plain": [
              "                         Model  Accuracy  Precision    Recall  F1 Score\n",
              "0  Logistic Regression (Lasso)  0.561977   0.575963  0.705913  0.634351"
            ]
          },
          "metadata": {
            "tags": []
          },
          "execution_count": 43
        }
      ]
    },
    {
      "cell_type": "markdown",
      "metadata": {
        "id": "0h9VzlP3eCW8",
        "colab_type": "text"
      },
      "source": [
        "### SVM (Linear)"
      ]
    },
    {
      "cell_type": "code",
      "metadata": {
        "id": "cqTvGecqeCW_",
        "colab_type": "code",
        "colab": {},
        "outputId": "fd2986e6-311c-427f-b6e5-22b50fe6decb"
      },
      "source": [
        "from sklearn.svm import SVC\n",
        "classifier = SVC(random_state = 0, kernel = 'linear')\n",
        "classifier.fit(X_train, y_train)\n",
        "\n",
        "# Predicting Test Set\n",
        "y_pred = classifier.predict(X_test)\n",
        "acc = accuracy_score(y_test, y_pred)\n",
        "prec = precision_score(y_test, y_pred)\n",
        "rec = recall_score(y_test, y_pred)\n",
        "f1 = f1_score(y_test, y_pred)\n",
        "\n",
        "model_results = pd.DataFrame([['SVM (Linear)', acc, prec, rec, f1]],\n",
        "               columns = ['Model', 'Accuracy', 'Precision', 'Recall', 'F1 Score'])\n",
        "\n",
        "results = results.append(model_results, ignore_index = True)\n",
        "results"
      ],
      "execution_count": 0,
      "outputs": [
        {
          "output_type": "execute_result",
          "data": {
            "text/html": [
              "<div>\n",
              "<style scoped>\n",
              "    .dataframe tbody tr th:only-of-type {\n",
              "        vertical-align: middle;\n",
              "    }\n",
              "\n",
              "    .dataframe tbody tr th {\n",
              "        vertical-align: top;\n",
              "    }\n",
              "\n",
              "    .dataframe thead th {\n",
              "        text-align: right;\n",
              "    }\n",
              "</style>\n",
              "<table border=\"1\" class=\"dataframe\">\n",
              "  <thead>\n",
              "    <tr style=\"text-align: right;\">\n",
              "      <th></th>\n",
              "      <th>Model</th>\n",
              "      <th>Accuracy</th>\n",
              "      <th>Precision</th>\n",
              "      <th>Recall</th>\n",
              "      <th>F1 Score</th>\n",
              "    </tr>\n",
              "  </thead>\n",
              "  <tbody>\n",
              "    <tr>\n",
              "      <th>0</th>\n",
              "      <td>Logistic Regression (Lasso)</td>\n",
              "      <td>0.561977</td>\n",
              "      <td>0.575963</td>\n",
              "      <td>0.705913</td>\n",
              "      <td>0.634351</td>\n",
              "    </tr>\n",
              "    <tr>\n",
              "      <th>1</th>\n",
              "      <td>SVM (Linear)</td>\n",
              "      <td>0.568398</td>\n",
              "      <td>0.577769</td>\n",
              "      <td>0.735996</td>\n",
              "      <td>0.647354</td>\n",
              "    </tr>\n",
              "  </tbody>\n",
              "</table>\n",
              "</div>"
            ],
            "text/plain": [
              "                         Model  Accuracy  Precision    Recall  F1 Score\n",
              "0  Logistic Regression (Lasso)  0.561977   0.575963  0.705913  0.634351\n",
              "1                 SVM (Linear)  0.568398   0.577769  0.735996  0.647354"
            ]
          },
          "metadata": {
            "tags": []
          },
          "execution_count": 44
        }
      ]
    },
    {
      "cell_type": "markdown",
      "metadata": {
        "id": "NQ7fxIbXeCXG",
        "colab_type": "text"
      },
      "source": [
        "### SVM (rbf)"
      ]
    },
    {
      "cell_type": "code",
      "metadata": {
        "id": "kmtI4l7LeCXI",
        "colab_type": "code",
        "colab": {},
        "outputId": "d7e988c3-dd0f-4286-d055-7ec3db76f7ab"
      },
      "source": [
        "from sklearn.svm import SVC\n",
        "classifier = SVC(random_state = 0, kernel = 'rbf')\n",
        "classifier.fit(X_train, y_train)\n",
        "\n",
        "# Predicting Test Set\n",
        "y_pred = classifier.predict(X_test)\n",
        "acc = accuracy_score(y_test, y_pred)\n",
        "prec = precision_score(y_test, y_pred)\n",
        "rec = recall_score(y_test, y_pred)\n",
        "f1 = f1_score(y_test, y_pred)\n",
        "\n",
        "model_results = pd.DataFrame([['SVM (RBF)', acc, prec, rec, f1]],\n",
        "               columns = ['Model', 'Accuracy', 'Precision', 'Recall', 'F1 Score'])\n",
        "\n",
        "results = results.append(model_results, ignore_index = True)\n",
        "results"
      ],
      "execution_count": 0,
      "outputs": [
        {
          "output_type": "execute_result",
          "data": {
            "text/html": [
              "<div>\n",
              "<style scoped>\n",
              "    .dataframe tbody tr th:only-of-type {\n",
              "        vertical-align: middle;\n",
              "    }\n",
              "\n",
              "    .dataframe tbody tr th {\n",
              "        vertical-align: top;\n",
              "    }\n",
              "\n",
              "    .dataframe thead th {\n",
              "        text-align: right;\n",
              "    }\n",
              "</style>\n",
              "<table border=\"1\" class=\"dataframe\">\n",
              "  <thead>\n",
              "    <tr style=\"text-align: right;\">\n",
              "      <th></th>\n",
              "      <th>Model</th>\n",
              "      <th>Accuracy</th>\n",
              "      <th>Precision</th>\n",
              "      <th>Recall</th>\n",
              "      <th>F1 Score</th>\n",
              "    </tr>\n",
              "  </thead>\n",
              "  <tbody>\n",
              "    <tr>\n",
              "      <th>0</th>\n",
              "      <td>Logistic Regression (Lasso)</td>\n",
              "      <td>0.561977</td>\n",
              "      <td>0.575963</td>\n",
              "      <td>0.705913</td>\n",
              "      <td>0.634351</td>\n",
              "    </tr>\n",
              "    <tr>\n",
              "      <th>1</th>\n",
              "      <td>SVM (Linear)</td>\n",
              "      <td>0.568398</td>\n",
              "      <td>0.577769</td>\n",
              "      <td>0.735996</td>\n",
              "      <td>0.647354</td>\n",
              "    </tr>\n",
              "    <tr>\n",
              "      <th>2</th>\n",
              "      <td>SVM (RBF)</td>\n",
              "      <td>0.591569</td>\n",
              "      <td>0.605730</td>\n",
              "      <td>0.690871</td>\n",
              "      <td>0.645505</td>\n",
              "    </tr>\n",
              "  </tbody>\n",
              "</table>\n",
              "</div>"
            ],
            "text/plain": [
              "                         Model  Accuracy  Precision    Recall  F1 Score\n",
              "0  Logistic Regression (Lasso)  0.561977   0.575963  0.705913  0.634351\n",
              "1                 SVM (Linear)  0.568398   0.577769  0.735996  0.647354\n",
              "2                    SVM (RBF)  0.591569   0.605730  0.690871  0.645505"
            ]
          },
          "metadata": {
            "tags": []
          },
          "execution_count": 45
        }
      ]
    },
    {
      "cell_type": "markdown",
      "metadata": {
        "id": "_4xDpDeReCXQ",
        "colab_type": "text"
      },
      "source": [
        "### Random Forest"
      ]
    },
    {
      "cell_type": "code",
      "metadata": {
        "id": "BVzXhd9ueCXS",
        "colab_type": "code",
        "colab": {},
        "outputId": "d37ae875-32c7-40b1-b412-872b3b100e62"
      },
      "source": [
        "from sklearn.ensemble import RandomForestClassifier\n",
        "classifier = RandomForestClassifier(random_state = 0, n_estimators = 100,\n",
        "                                    criterion = 'entropy')\n",
        "classifier.fit(X_train, y_train)\n",
        "\n",
        "# Predicting Test Set\n",
        "y_pred = classifier.predict(X_test)\n",
        "acc = accuracy_score(y_test, y_pred)\n",
        "prec = precision_score(y_test, y_pred)\n",
        "rec = recall_score(y_test, y_pred)\n",
        "f1 = f1_score(y_test, y_pred)\n",
        "\n",
        "model_results = pd.DataFrame([['Random Forest (n=100)', acc, prec, rec, f1]],\n",
        "               columns = ['Model', 'Accuracy', 'Precision', 'Recall', 'F1 Score'])\n",
        "\n",
        "results = results.append(model_results, ignore_index = True)\n",
        "results"
      ],
      "execution_count": 0,
      "outputs": [
        {
          "output_type": "execute_result",
          "data": {
            "text/html": [
              "<div>\n",
              "<style scoped>\n",
              "    .dataframe tbody tr th:only-of-type {\n",
              "        vertical-align: middle;\n",
              "    }\n",
              "\n",
              "    .dataframe tbody tr th {\n",
              "        vertical-align: top;\n",
              "    }\n",
              "\n",
              "    .dataframe thead th {\n",
              "        text-align: right;\n",
              "    }\n",
              "</style>\n",
              "<table border=\"1\" class=\"dataframe\">\n",
              "  <thead>\n",
              "    <tr style=\"text-align: right;\">\n",
              "      <th></th>\n",
              "      <th>Model</th>\n",
              "      <th>Accuracy</th>\n",
              "      <th>Precision</th>\n",
              "      <th>Recall</th>\n",
              "      <th>F1 Score</th>\n",
              "    </tr>\n",
              "  </thead>\n",
              "  <tbody>\n",
              "    <tr>\n",
              "      <th>0</th>\n",
              "      <td>Logistic Regression (Lasso)</td>\n",
              "      <td>0.561977</td>\n",
              "      <td>0.575963</td>\n",
              "      <td>0.705913</td>\n",
              "      <td>0.634351</td>\n",
              "    </tr>\n",
              "    <tr>\n",
              "      <th>1</th>\n",
              "      <td>SVM (Linear)</td>\n",
              "      <td>0.568398</td>\n",
              "      <td>0.577769</td>\n",
              "      <td>0.735996</td>\n",
              "      <td>0.647354</td>\n",
              "    </tr>\n",
              "    <tr>\n",
              "      <th>2</th>\n",
              "      <td>SVM (RBF)</td>\n",
              "      <td>0.591569</td>\n",
              "      <td>0.605730</td>\n",
              "      <td>0.690871</td>\n",
              "      <td>0.645505</td>\n",
              "    </tr>\n",
              "    <tr>\n",
              "      <th>3</th>\n",
              "      <td>Random Forest (n=100)</td>\n",
              "      <td>0.621999</td>\n",
              "      <td>0.640137</td>\n",
              "      <td>0.679979</td>\n",
              "      <td>0.659457</td>\n",
              "    </tr>\n",
              "  </tbody>\n",
              "</table>\n",
              "</div>"
            ],
            "text/plain": [
              "                         Model  Accuracy  Precision    Recall  F1 Score\n",
              "0  Logistic Regression (Lasso)  0.561977   0.575963  0.705913  0.634351\n",
              "1                 SVM (Linear)  0.568398   0.577769  0.735996  0.647354\n",
              "2                    SVM (RBF)  0.591569   0.605730  0.690871  0.645505\n",
              "3        Random Forest (n=100)  0.621999   0.640137  0.679979  0.659457"
            ]
          },
          "metadata": {
            "tags": []
          },
          "execution_count": 46
        }
      ]
    },
    {
      "cell_type": "markdown",
      "metadata": {
        "id": "S7RkOZSueCXf",
        "colab_type": "text"
      },
      "source": [
        "### K-fold Cross Validation"
      ]
    },
    {
      "cell_type": "code",
      "metadata": {
        "id": "gplIh0H5eCXh",
        "colab_type": "code",
        "colab": {},
        "outputId": "f98cf000-c53b-4d83-e34a-6467ca03785d"
      },
      "source": [
        "from sklearn.model_selection import cross_val_score\n",
        "accuracies = cross_val_score(estimator = classifier, X= X_train, y = y_train,\n",
        "                             cv = 10)\n",
        "print(\"Random Forest Classifier Accuracy: %0.2f (+/- %0.2f)\"  % (accuracies.mean(), accuracies.std() * 2))"
      ],
      "execution_count": 0,
      "outputs": [
        {
          "output_type": "stream",
          "text": [
            "Random Forest Classifier Accuracy: 0.63 (+/- 0.03)\n"
          ],
          "name": "stdout"
        }
      ]
    },
    {
      "cell_type": "code",
      "metadata": {
        "id": "FOXoMzd-eCXp",
        "colab_type": "code",
        "colab": {},
        "outputId": "93c8f1e8-ad52-4369-90e3-a4df05cd32a9"
      },
      "source": [
        "### Parameter Tuning\n",
        "# pip install joblib\n",
        "# conda install joblib\n",
        "\n",
        "# Applying Grid Search\n",
        "\n",
        "# Round 1: Entropy\n",
        "parameters = {\"max_depth\": [3, None],\n",
        "              \"max_features\": [1, 5, 10],\n",
        "              'min_samples_split': [2, 5, 10],\n",
        "              'min_samples_leaf': [1, 5, 10],\n",
        "              \"bootstrap\": [True, False],\n",
        "              \"criterion\": [\"entropy\"]}\n",
        "\n",
        "from sklearn.model_selection import GridSearchCV\n",
        "grid_search = GridSearchCV(estimator = classifier, # Make sure classifier points to the RF model\n",
        "                           param_grid = parameters,\n",
        "                           scoring = \"accuracy\",\n",
        "                           cv = 10,\n",
        "                           n_jobs = -1)\n",
        "\n",
        "t0 = time.time()\n",
        "grid_search = grid_search.fit(X_train, y_train)\n",
        "t1 = time.time()\n",
        "print(\"Took %0.2f seconds\" % (t1 - t0))"
      ],
      "execution_count": 0,
      "outputs": [
        {
          "output_type": "stream",
          "text": [
            "Took 968.54 seconds\n"
          ],
          "name": "stdout"
        }
      ]
    },
    {
      "cell_type": "code",
      "metadata": {
        "id": "U2R7cwUMeCXw",
        "colab_type": "code",
        "colab": {},
        "outputId": "7ed4a122-b78e-4682-a888-c2b37aedc5aa"
      },
      "source": [
        "rf_best_accuracy = grid_search.best_score_\n",
        "rf_best_parameters = grid_search.best_params_\n",
        "rf_best_accuracy, rf_best_parameters"
      ],
      "execution_count": 0,
      "outputs": [
        {
          "output_type": "execute_result",
          "data": {
            "text/plain": [
              "(0.6357671366745777,\n",
              " {'bootstrap': True,\n",
              "  'criterion': 'entropy',\n",
              "  'max_depth': None,\n",
              "  'max_features': 5,\n",
              "  'min_samples_leaf': 1,\n",
              "  'min_samples_split': 10})"
            ]
          },
          "metadata": {
            "tags": []
          },
          "execution_count": 23
        }
      ]
    },
    {
      "cell_type": "code",
      "metadata": {
        "scrolled": true,
        "id": "J38fnfhBeCX4",
        "colab_type": "code",
        "colab": {},
        "outputId": "1e72089f-63df-45ed-fa28-949c7c16153e"
      },
      "source": [
        "# Round 2: Entropy\n",
        "parameters = {\"max_depth\": [None],\n",
        "              \"max_features\": [3, 5, 7],\n",
        "              'min_samples_split': [8, 10, 12],\n",
        "              'min_samples_leaf': [1, 2, 3],\n",
        "              \"bootstrap\": [True],\n",
        "              \"criterion\": [\"entropy\"]}\n",
        "\n",
        "from sklearn.model_selection import GridSearchCV\n",
        "grid_search = GridSearchCV(estimator = classifier, # Make sure classifier points to the RF model\n",
        "                           param_grid = parameters,\n",
        "                           scoring = \"accuracy\",\n",
        "                           cv = 10,\n",
        "                           n_jobs = -1)\n",
        "\n",
        "t0 = time.time()\n",
        "grid_search = grid_search.fit(X_train, y_train)\n",
        "t1 = time.time()\n",
        "print(\"Took %0.2f seconds\" % (t1 - t0))\n",
        "\n",
        "rf_best_accuracy = grid_search.best_score_\n",
        "rf_best_parameters = grid_search.best_params_\n",
        "rf_best_accuracy, rf_best_parameters"
      ],
      "execution_count": 0,
      "outputs": [
        {
          "output_type": "stream",
          "text": [
            "Took 327.36 seconds\n"
          ],
          "name": "stdout"
        },
        {
          "output_type": "execute_result",
          "data": {
            "text/plain": [
              "(0.6357671366745777,\n",
              " {'bootstrap': True,\n",
              "  'criterion': 'entropy',\n",
              "  'max_depth': None,\n",
              "  'max_features': 5,\n",
              "  'min_samples_leaf': 1,\n",
              "  'min_samples_split': 10})"
            ]
          },
          "metadata": {
            "tags": []
          },
          "execution_count": 26
        }
      ]
    },
    {
      "cell_type": "code",
      "metadata": {
        "id": "M4r3iTAQeCX-",
        "colab_type": "code",
        "colab": {},
        "outputId": "6ee34216-ecba-49d4-9f1f-c40be239936e"
      },
      "source": [
        "# Predicting Test Set\n",
        "y_pred = grid_search.predict(X_test)\n",
        "acc = accuracy_score(y_test, y_pred)\n",
        "prec = precision_score(y_test, y_pred)\n",
        "rec = recall_score(y_test, y_pred)\n",
        "f1 = f1_score(y_test, y_pred)\n",
        "\n",
        "model_results = pd.DataFrame([['Random Forest (n=100, GSx2 + Entropy)', acc, prec, rec, f1]],\n",
        "               columns = ['Model', 'Accuracy', 'Precision', 'Recall', 'F1 Score'])\n",
        "\n",
        "results = results.append(model_results, ignore_index = True)\n",
        "results"
      ],
      "execution_count": 0,
      "outputs": [
        {
          "output_type": "execute_result",
          "data": {
            "text/html": [
              "<div>\n",
              "<style scoped>\n",
              "    .dataframe tbody tr th:only-of-type {\n",
              "        vertical-align: middle;\n",
              "    }\n",
              "\n",
              "    .dataframe tbody tr th {\n",
              "        vertical-align: top;\n",
              "    }\n",
              "\n",
              "    .dataframe thead th {\n",
              "        text-align: right;\n",
              "    }\n",
              "</style>\n",
              "<table border=\"1\" class=\"dataframe\">\n",
              "  <thead>\n",
              "    <tr style=\"text-align: right;\">\n",
              "      <th></th>\n",
              "      <th>Model</th>\n",
              "      <th>Accuracy</th>\n",
              "      <th>Precision</th>\n",
              "      <th>Recall</th>\n",
              "      <th>F1 Score</th>\n",
              "    </tr>\n",
              "  </thead>\n",
              "  <tbody>\n",
              "    <tr>\n",
              "      <th>0</th>\n",
              "      <td>Linear Regression (Lasso)</td>\n",
              "      <td>0.561977</td>\n",
              "      <td>0.575963</td>\n",
              "      <td>0.705913</td>\n",
              "      <td>0.634351</td>\n",
              "    </tr>\n",
              "    <tr>\n",
              "      <th>1</th>\n",
              "      <td>SVM (Linear)</td>\n",
              "      <td>0.568398</td>\n",
              "      <td>0.577769</td>\n",
              "      <td>0.735996</td>\n",
              "      <td>0.647354</td>\n",
              "    </tr>\n",
              "    <tr>\n",
              "      <th>2</th>\n",
              "      <td>SVM (RBF)</td>\n",
              "      <td>0.591569</td>\n",
              "      <td>0.605730</td>\n",
              "      <td>0.690871</td>\n",
              "      <td>0.645505</td>\n",
              "    </tr>\n",
              "    <tr>\n",
              "      <th>3</th>\n",
              "      <td>Random Forest (n=100)</td>\n",
              "      <td>0.621999</td>\n",
              "      <td>0.640137</td>\n",
              "      <td>0.679979</td>\n",
              "      <td>0.659457</td>\n",
              "    </tr>\n",
              "    <tr>\n",
              "      <th>4</th>\n",
              "      <td>Random Forest (n=100, GSx2 + Entropy)</td>\n",
              "      <td>0.635399</td>\n",
              "      <td>0.646009</td>\n",
              "      <td>0.713693</td>\n",
              "      <td>0.678167</td>\n",
              "    </tr>\n",
              "    <tr>\n",
              "      <th>5</th>\n",
              "      <td>Random Forest (n=100, GSx2 + Entropy)</td>\n",
              "      <td>0.635399</td>\n",
              "      <td>0.646009</td>\n",
              "      <td>0.713693</td>\n",
              "      <td>0.678167</td>\n",
              "    </tr>\n",
              "  </tbody>\n",
              "</table>\n",
              "</div>"
            ],
            "text/plain": [
              "                                   Model  Accuracy  Precision    Recall  \\\n",
              "0              Linear Regression (Lasso)  0.561977   0.575963  0.705913   \n",
              "1                           SVM (Linear)  0.568398   0.577769  0.735996   \n",
              "2                              SVM (RBF)  0.591569   0.605730  0.690871   \n",
              "3                  Random Forest (n=100)  0.621999   0.640137  0.679979   \n",
              "4  Random Forest (n=100, GSx2 + Entropy)  0.635399   0.646009  0.713693   \n",
              "5  Random Forest (n=100, GSx2 + Entropy)  0.635399   0.646009  0.713693   \n",
              "\n",
              "   F1 Score  \n",
              "0  0.634351  \n",
              "1  0.647354  \n",
              "2  0.645505  \n",
              "3  0.659457  \n",
              "4  0.678167  \n",
              "5  0.678167  "
            ]
          },
          "metadata": {
            "tags": []
          },
          "execution_count": 27
        }
      ]
    },
    {
      "cell_type": "code",
      "metadata": {
        "id": "puDewY1ceCYB",
        "colab_type": "code",
        "colab": {},
        "outputId": "aa2e3297-a43f-468d-e6bf-30083a9a615b"
      },
      "source": [
        "# Round 1: Gini\n",
        "parameters = {\"max_depth\": [3, None],\n",
        "              \"max_features\": [1, 5, 10],\n",
        "              'min_samples_split': [2, 5, 10],\n",
        "              'min_samples_leaf': [1, 5, 10],\n",
        "              \"bootstrap\": [True, False],\n",
        "              \"criterion\": [\"gini\"]}\n",
        "\n",
        "from sklearn.model_selection import GridSearchCV\n",
        "grid_search = GridSearchCV(estimator = classifier, # Make sure classifier points to the RF model\n",
        "                           param_grid = parameters,\n",
        "                           scoring = \"accuracy\",\n",
        "                           cv = 10,\n",
        "                           n_jobs = -1)\n",
        "\n",
        "t0 = time.time()\n",
        "grid_search = grid_search.fit(X_train, y_train)\n",
        "t1 = time.time()\n",
        "print(\"Took %0.2f seconds\" % (t1 - t0))\n",
        "\n",
        "rf_best_accuracy = grid_search.best_score_\n",
        "rf_best_parameters = grid_search.best_params_\n",
        "rf_best_accuracy, rf_best_parameters"
      ],
      "execution_count": 0,
      "outputs": [
        {
          "output_type": "stream",
          "text": [
            "Took 602.41 seconds\n"
          ],
          "name": "stdout"
        },
        {
          "output_type": "execute_result",
          "data": {
            "text/plain": [
              "(0.6363255619153986,\n",
              " {'bootstrap': True,\n",
              "  'criterion': 'gini',\n",
              "  'max_depth': None,\n",
              "  'max_features': 10,\n",
              "  'min_samples_leaf': 10,\n",
              "  'min_samples_split': 2})"
            ]
          },
          "metadata": {
            "tags": []
          },
          "execution_count": 28
        }
      ]
    },
    {
      "cell_type": "code",
      "metadata": {
        "id": "5uB6BEsxeCYH",
        "colab_type": "code",
        "colab": {},
        "outputId": "2dc439a5-9841-49e8-932c-1ae4e8915dad"
      },
      "source": [
        "# Round 2: Gini\n",
        "parameters = {\"max_depth\": [None],\n",
        "              \"max_features\": [8, 10, 12],\n",
        "              'min_samples_split': [2, 3, 4],\n",
        "              'min_samples_leaf': [8, 10, 12],\n",
        "              \"bootstrap\": [True],\n",
        "              \"criterion\": [\"gini\"]}\n",
        "\n",
        "from sklearn.model_selection import GridSearchCV\n",
        "grid_search = GridSearchCV(estimator = classifier, # Make sure classifier points to the RF model\n",
        "                           param_grid = parameters,\n",
        "                           scoring = \"accuracy\",\n",
        "                           cv = 10,\n",
        "                           n_jobs = -1)\n",
        "\n",
        "t0 = time.time()\n",
        "grid_search = grid_search.fit(X_train, y_train)\n",
        "t1 = time.time()\n",
        "print(\"Took %0.2f seconds\" % (t1 - t0))\n",
        "\n",
        "rf_best_accuracy = grid_search.best_score_\n",
        "rf_best_parameters = grid_search.best_params_\n",
        "rf_best_accuracy, rf_best_parameters"
      ],
      "execution_count": 0,
      "outputs": [
        {
          "output_type": "stream",
          "text": [
            "Took 295.26 seconds\n"
          ],
          "name": "stdout"
        },
        {
          "output_type": "execute_result",
          "data": {
            "text/plain": [
              "(0.6389082786541952,\n",
              " {'bootstrap': True,\n",
              "  'criterion': 'gini',\n",
              "  'max_depth': None,\n",
              "  'max_features': 12,\n",
              "  'min_samples_leaf': 12,\n",
              "  'min_samples_split': 2})"
            ]
          },
          "metadata": {
            "tags": []
          },
          "execution_count": 29
        }
      ]
    },
    {
      "cell_type": "code",
      "metadata": {
        "id": "dDCAJWXXeCYW",
        "colab_type": "code",
        "colab": {},
        "outputId": "cc902ae1-ff46-4914-aa98-3361ce43c025"
      },
      "source": [
        "# Predicting Test Set\n",
        "y_pred = grid_search.predict(X_test)\n",
        "acc = accuracy_score(y_test, y_pred)\n",
        "prec = precision_score(y_test, y_pred)\n",
        "rec = recall_score(y_test, y_pred)\n",
        "f1 = f1_score(y_test, y_pred)\n",
        "\n",
        "model_results = pd.DataFrame([['Random Forest (n=100, GSx2 + Gini)', acc, prec, rec, f1]],\n",
        "               columns = ['Model', 'Accuracy', 'Precision', 'Recall', 'F1 Score'])\n",
        "\n",
        "results = results.append(model_results, ignore_index = True)\n",
        "results"
      ],
      "execution_count": 0,
      "outputs": [
        {
          "output_type": "execute_result",
          "data": {
            "text/html": [
              "<div>\n",
              "<style scoped>\n",
              "    .dataframe tbody tr th:only-of-type {\n",
              "        vertical-align: middle;\n",
              "    }\n",
              "\n",
              "    .dataframe tbody tr th {\n",
              "        vertical-align: top;\n",
              "    }\n",
              "\n",
              "    .dataframe thead th {\n",
              "        text-align: right;\n",
              "    }\n",
              "</style>\n",
              "<table border=\"1\" class=\"dataframe\">\n",
              "  <thead>\n",
              "    <tr style=\"text-align: right;\">\n",
              "      <th></th>\n",
              "      <th>Model</th>\n",
              "      <th>Accuracy</th>\n",
              "      <th>Precision</th>\n",
              "      <th>Recall</th>\n",
              "      <th>F1 Score</th>\n",
              "    </tr>\n",
              "  </thead>\n",
              "  <tbody>\n",
              "    <tr>\n",
              "      <th>0</th>\n",
              "      <td>Linear Regression (Lasso)</td>\n",
              "      <td>0.561977</td>\n",
              "      <td>0.575963</td>\n",
              "      <td>0.705913</td>\n",
              "      <td>0.634351</td>\n",
              "    </tr>\n",
              "    <tr>\n",
              "      <th>1</th>\n",
              "      <td>SVM (Linear)</td>\n",
              "      <td>0.568398</td>\n",
              "      <td>0.577769</td>\n",
              "      <td>0.735996</td>\n",
              "      <td>0.647354</td>\n",
              "    </tr>\n",
              "    <tr>\n",
              "      <th>2</th>\n",
              "      <td>SVM (RBF)</td>\n",
              "      <td>0.591569</td>\n",
              "      <td>0.605730</td>\n",
              "      <td>0.690871</td>\n",
              "      <td>0.645505</td>\n",
              "    </tr>\n",
              "    <tr>\n",
              "      <th>3</th>\n",
              "      <td>Random Forest (n=100)</td>\n",
              "      <td>0.621999</td>\n",
              "      <td>0.640137</td>\n",
              "      <td>0.679979</td>\n",
              "      <td>0.659457</td>\n",
              "    </tr>\n",
              "    <tr>\n",
              "      <th>4</th>\n",
              "      <td>Random Forest (n=100, GSx2 + Entropy)</td>\n",
              "      <td>0.635399</td>\n",
              "      <td>0.646009</td>\n",
              "      <td>0.713693</td>\n",
              "      <td>0.678167</td>\n",
              "    </tr>\n",
              "    <tr>\n",
              "      <th>5</th>\n",
              "      <td>Random Forest (n=100, GSx2 + Entropy)</td>\n",
              "      <td>0.635399</td>\n",
              "      <td>0.646009</td>\n",
              "      <td>0.713693</td>\n",
              "      <td>0.678167</td>\n",
              "    </tr>\n",
              "    <tr>\n",
              "      <th>6</th>\n",
              "      <td>Random Forest (n=100, GSx2 + Gini)</td>\n",
              "      <td>0.635120</td>\n",
              "      <td>0.649207</td>\n",
              "      <td>0.700726</td>\n",
              "      <td>0.673984</td>\n",
              "    </tr>\n",
              "  </tbody>\n",
              "</table>\n",
              "</div>"
            ],
            "text/plain": [
              "                                   Model  Accuracy  Precision    Recall  \\\n",
              "0              Linear Regression (Lasso)  0.561977   0.575963  0.705913   \n",
              "1                           SVM (Linear)  0.568398   0.577769  0.735996   \n",
              "2                              SVM (RBF)  0.591569   0.605730  0.690871   \n",
              "3                  Random Forest (n=100)  0.621999   0.640137  0.679979   \n",
              "4  Random Forest (n=100, GSx2 + Entropy)  0.635399   0.646009  0.713693   \n",
              "5  Random Forest (n=100, GSx2 + Entropy)  0.635399   0.646009  0.713693   \n",
              "6     Random Forest (n=100, GSx2 + Gini)  0.635120   0.649207  0.700726   \n",
              "\n",
              "   F1 Score  \n",
              "0  0.634351  \n",
              "1  0.647354  \n",
              "2  0.645505  \n",
              "3  0.659457  \n",
              "4  0.678167  \n",
              "5  0.678167  \n",
              "6  0.673984  "
            ]
          },
          "metadata": {
            "tags": []
          },
          "execution_count": 30
        }
      ]
    },
    {
      "cell_type": "code",
      "metadata": {
        "id": "u_pV0DQceCYc",
        "colab_type": "code",
        "colab": {},
        "outputId": "428b7d07-2e77-4a09-e04f-533ca04d411c"
      },
      "source": [
        "## EXTRA: Confusion Matrix\n",
        "cm = confusion_matrix(y_test, y_pred) # rows = truth, cols = prediction\n",
        "df_cm = pd.DataFrame(cm, index = (0, 1), columns = (0, 1))\n",
        "plt.figure(figsize = (10,7))\n",
        "sns.set(font_scale=1.4)\n",
        "sns.heatmap(df_cm, annot=True, fmt='g')\n",
        "print(\"Test Data Accuracy: %0.4f\" % accuracy_score(y_test, y_pred))"
      ],
      "execution_count": 0,
      "outputs": [
        {
          "output_type": "stream",
          "text": [
            "Test Data Accuracy: 0.6351\n"
          ],
          "name": "stdout"
        },
        {
          "output_type": "display_data",
          "data": {
            "image/png": "[encoded data removed]",
            "text/plain": [
              "<matplotlib.figure.Figure at 0x25287783240>"
            ]
          },
          "metadata": {
            "tags": []
          }
        }
      ]
    },
    {
      "cell_type": "code",
      "metadata": {
        "id": "3MoW6AT1eCYh",
        "colab_type": "code",
        "colab": {},
        "outputId": "1cefa3c2-ef4d-4639-847e-4df3194126e7"
      },
      "source": [
        "#### End of Model ####\n",
        "\n",
        "\n",
        "# Formatting Final Results\n",
        "\n",
        "final_results = pd.concat([y_test, users], axis = 1).dropna()\n",
        "final_results['predictions'] = y_pred\n",
        "final_results = final_results[['entry_id', 'e_signed', 'predictions']]\n",
        "final_results"
      ],
      "execution_count": 0,
      "outputs": [
        {
          "output_type": "execute_result",
          "data": {
            "text/html": [
              "<div>\n",
              "<style scoped>\n",
              "    .dataframe tbody tr th:only-of-type {\n",
              "        vertical-align: middle;\n",
              "    }\n",
              "\n",
              "    .dataframe tbody tr th {\n",
              "        vertical-align: top;\n",
              "    }\n",
              "\n",
              "    .dataframe thead th {\n",
              "        text-align: right;\n",
              "    }\n",
              "</style>\n",
              "<table border=\"1\" class=\"dataframe\">\n",
              "  <thead>\n",
              "    <tr style=\"text-align: right;\">\n",
              "      <th></th>\n",
              "      <th>entry_id</th>\n",
              "      <th>e_signed</th>\n",
              "      <th>predictions</th>\n",
              "    </tr>\n",
              "  </thead>\n",
              "  <tbody>\n",
              "    <tr>\n",
              "      <th>8</th>\n",
              "      <td>6493191</td>\n",
              "      <td>1.0</td>\n",
              "      <td>0</td>\n",
              "    </tr>\n",
              "    <tr>\n",
              "      <th>9</th>\n",
              "      <td>8908605</td>\n",
              "      <td>1.0</td>\n",
              "      <td>0</td>\n",
              "    </tr>\n",
              "    <tr>\n",
              "      <th>12</th>\n",
              "      <td>6889184</td>\n",
              "      <td>1.0</td>\n",
              "      <td>1</td>\n",
              "    </tr>\n",
              "    <tr>\n",
              "      <th>16</th>\n",
              "      <td>9375601</td>\n",
              "      <td>0.0</td>\n",
              "      <td>1</td>\n",
              "    </tr>\n",
              "    <tr>\n",
              "      <th>18</th>\n",
              "      <td>8515555</td>\n",
              "      <td>1.0</td>\n",
              "      <td>1</td>\n",
              "    </tr>\n",
              "    <tr>\n",
              "      <th>31</th>\n",
              "      <td>2881357</td>\n",
              "      <td>0.0</td>\n",
              "      <td>0</td>\n",
              "    </tr>\n",
              "    <tr>\n",
              "      <th>33</th>\n",
              "      <td>7048193</td>\n",
              "      <td>1.0</td>\n",
              "      <td>1</td>\n",
              "    </tr>\n",
              "    <tr>\n",
              "      <th>37</th>\n",
              "      <td>5815308</td>\n",
              "      <td>1.0</td>\n",
              "      <td>1</td>\n",
              "    </tr>\n",
              "    <tr>\n",
              "      <th>44</th>\n",
              "      <td>8700190</td>\n",
              "      <td>1.0</td>\n",
              "      <td>1</td>\n",
              "    </tr>\n",
              "    <tr>\n",
              "      <th>45</th>\n",
              "      <td>8232654</td>\n",
              "      <td>0.0</td>\n",
              "      <td>1</td>\n",
              "    </tr>\n",
              "    <tr>\n",
              "      <th>47</th>\n",
              "      <td>6017637</td>\n",
              "      <td>0.0</td>\n",
              "      <td>1</td>\n",
              "    </tr>\n",
              "    <tr>\n",
              "      <th>48</th>\n",
              "      <td>9071675</td>\n",
              "      <td>0.0</td>\n",
              "      <td>1</td>\n",
              "    </tr>\n",
              "    <tr>\n",
              "      <th>51</th>\n",
              "      <td>2718414</td>\n",
              "      <td>0.0</td>\n",
              "      <td>0</td>\n",
              "    </tr>\n",
              "    <tr>\n",
              "      <th>60</th>\n",
              "      <td>1213384</td>\n",
              "      <td>1.0</td>\n",
              "      <td>1</td>\n",
              "    </tr>\n",
              "    <tr>\n",
              "      <th>65</th>\n",
              "      <td>9217393</td>\n",
              "      <td>0.0</td>\n",
              "      <td>1</td>\n",
              "    </tr>\n",
              "    <tr>\n",
              "      <th>69</th>\n",
              "      <td>1401385</td>\n",
              "      <td>0.0</td>\n",
              "      <td>0</td>\n",
              "    </tr>\n",
              "    <tr>\n",
              "      <th>74</th>\n",
              "      <td>3385813</td>\n",
              "      <td>1.0</td>\n",
              "      <td>1</td>\n",
              "    </tr>\n",
              "    <tr>\n",
              "      <th>88</th>\n",
              "      <td>3337988</td>\n",
              "      <td>1.0</td>\n",
              "      <td>0</td>\n",
              "    </tr>\n",
              "    <tr>\n",
              "      <th>94</th>\n",
              "      <td>5646177</td>\n",
              "      <td>1.0</td>\n",
              "      <td>0</td>\n",
              "    </tr>\n",
              "    <tr>\n",
              "      <th>103</th>\n",
              "      <td>6428253</td>\n",
              "      <td>1.0</td>\n",
              "      <td>0</td>\n",
              "    </tr>\n",
              "    <tr>\n",
              "      <th>119</th>\n",
              "      <td>8739167</td>\n",
              "      <td>0.0</td>\n",
              "      <td>1</td>\n",
              "    </tr>\n",
              "    <tr>\n",
              "      <th>122</th>\n",
              "      <td>9260893</td>\n",
              "      <td>0.0</td>\n",
              "      <td>0</td>\n",
              "    </tr>\n",
              "    <tr>\n",
              "      <th>124</th>\n",
              "      <td>6989789</td>\n",
              "      <td>1.0</td>\n",
              "      <td>0</td>\n",
              "    </tr>\n",
              "    <tr>\n",
              "      <th>127</th>\n",
              "      <td>5032836</td>\n",
              "      <td>0.0</td>\n",
              "      <td>0</td>\n",
              "    </tr>\n",
              "    <tr>\n",
              "      <th>129</th>\n",
              "      <td>5770277</td>\n",
              "      <td>1.0</td>\n",
              "      <td>0</td>\n",
              "    </tr>\n",
              "    <tr>\n",
              "      <th>134</th>\n",
              "      <td>9129594</td>\n",
              "      <td>1.0</td>\n",
              "      <td>0</td>\n",
              "    </tr>\n",
              "    <tr>\n",
              "      <th>142</th>\n",
              "      <td>4488789</td>\n",
              "      <td>1.0</td>\n",
              "      <td>0</td>\n",
              "    </tr>\n",
              "    <tr>\n",
              "      <th>146</th>\n",
              "      <td>3265474</td>\n",
              "      <td>1.0</td>\n",
              "      <td>0</td>\n",
              "    </tr>\n",
              "    <tr>\n",
              "      <th>150</th>\n",
              "      <td>4867078</td>\n",
              "      <td>1.0</td>\n",
              "      <td>1</td>\n",
              "    </tr>\n",
              "    <tr>\n",
              "      <th>154</th>\n",
              "      <td>5700559</td>\n",
              "      <td>1.0</td>\n",
              "      <td>1</td>\n",
              "    </tr>\n",
              "    <tr>\n",
              "      <th>...</th>\n",
              "      <td>...</td>\n",
              "      <td>...</td>\n",
              "      <td>...</td>\n",
              "    </tr>\n",
              "    <tr>\n",
              "      <th>17779</th>\n",
              "      <td>2853843</td>\n",
              "      <td>0.0</td>\n",
              "      <td>1</td>\n",
              "    </tr>\n",
              "    <tr>\n",
              "      <th>17781</th>\n",
              "      <td>9800690</td>\n",
              "      <td>1.0</td>\n",
              "      <td>1</td>\n",
              "    </tr>\n",
              "    <tr>\n",
              "      <th>17796</th>\n",
              "      <td>8721355</td>\n",
              "      <td>0.0</td>\n",
              "      <td>0</td>\n",
              "    </tr>\n",
              "    <tr>\n",
              "      <th>17805</th>\n",
              "      <td>3386085</td>\n",
              "      <td>1.0</td>\n",
              "      <td>1</td>\n",
              "    </tr>\n",
              "    <tr>\n",
              "      <th>17811</th>\n",
              "      <td>6775612</td>\n",
              "      <td>0.0</td>\n",
              "      <td>1</td>\n",
              "    </tr>\n",
              "    <tr>\n",
              "      <th>17813</th>\n",
              "      <td>4985718</td>\n",
              "      <td>1.0</td>\n",
              "      <td>0</td>\n",
              "    </tr>\n",
              "    <tr>\n",
              "      <th>17814</th>\n",
              "      <td>2864796</td>\n",
              "      <td>0.0</td>\n",
              "      <td>1</td>\n",
              "    </tr>\n",
              "    <tr>\n",
              "      <th>17815</th>\n",
              "      <td>5737298</td>\n",
              "      <td>1.0</td>\n",
              "      <td>1</td>\n",
              "    </tr>\n",
              "    <tr>\n",
              "      <th>17820</th>\n",
              "      <td>4274110</td>\n",
              "      <td>1.0</td>\n",
              "      <td>1</td>\n",
              "    </tr>\n",
              "    <tr>\n",
              "      <th>17831</th>\n",
              "      <td>6093659</td>\n",
              "      <td>0.0</td>\n",
              "      <td>1</td>\n",
              "    </tr>\n",
              "    <tr>\n",
              "      <th>17835</th>\n",
              "      <td>7083364</td>\n",
              "      <td>1.0</td>\n",
              "      <td>1</td>\n",
              "    </tr>\n",
              "    <tr>\n",
              "      <th>17846</th>\n",
              "      <td>2040701</td>\n",
              "      <td>0.0</td>\n",
              "      <td>0</td>\n",
              "    </tr>\n",
              "    <tr>\n",
              "      <th>17847</th>\n",
              "      <td>7100904</td>\n",
              "      <td>1.0</td>\n",
              "      <td>1</td>\n",
              "    </tr>\n",
              "    <tr>\n",
              "      <th>17850</th>\n",
              "      <td>5038970</td>\n",
              "      <td>1.0</td>\n",
              "      <td>1</td>\n",
              "    </tr>\n",
              "    <tr>\n",
              "      <th>17854</th>\n",
              "      <td>8092654</td>\n",
              "      <td>1.0</td>\n",
              "      <td>1</td>\n",
              "    </tr>\n",
              "    <tr>\n",
              "      <th>17857</th>\n",
              "      <td>7045673</td>\n",
              "      <td>1.0</td>\n",
              "      <td>1</td>\n",
              "    </tr>\n",
              "    <tr>\n",
              "      <th>17864</th>\n",
              "      <td>7997931</td>\n",
              "      <td>0.0</td>\n",
              "      <td>1</td>\n",
              "    </tr>\n",
              "    <tr>\n",
              "      <th>17865</th>\n",
              "      <td>5946920</td>\n",
              "      <td>0.0</td>\n",
              "      <td>1</td>\n",
              "    </tr>\n",
              "    <tr>\n",
              "      <th>17866</th>\n",
              "      <td>3275691</td>\n",
              "      <td>1.0</td>\n",
              "      <td>1</td>\n",
              "    </tr>\n",
              "    <tr>\n",
              "      <th>17867</th>\n",
              "      <td>8990324</td>\n",
              "      <td>1.0</td>\n",
              "      <td>1</td>\n",
              "    </tr>\n",
              "    <tr>\n",
              "      <th>17871</th>\n",
              "      <td>2247736</td>\n",
              "      <td>1.0</td>\n",
              "      <td>0</td>\n",
              "    </tr>\n",
              "    <tr>\n",
              "      <th>17875</th>\n",
              "      <td>4736767</td>\n",
              "      <td>1.0</td>\n",
              "      <td>1</td>\n",
              "    </tr>\n",
              "    <tr>\n",
              "      <th>17876</th>\n",
              "      <td>3749453</td>\n",
              "      <td>0.0</td>\n",
              "      <td>0</td>\n",
              "    </tr>\n",
              "    <tr>\n",
              "      <th>17877</th>\n",
              "      <td>9192574</td>\n",
              "      <td>0.0</td>\n",
              "      <td>0</td>\n",
              "    </tr>\n",
              "    <tr>\n",
              "      <th>17880</th>\n",
              "      <td>3620673</td>\n",
              "      <td>1.0</td>\n",
              "      <td>0</td>\n",
              "    </tr>\n",
              "    <tr>\n",
              "      <th>17881</th>\n",
              "      <td>5028251</td>\n",
              "      <td>1.0</td>\n",
              "      <td>1</td>\n",
              "    </tr>\n",
              "    <tr>\n",
              "      <th>17888</th>\n",
              "      <td>8958068</td>\n",
              "      <td>0.0</td>\n",
              "      <td>0</td>\n",
              "    </tr>\n",
              "    <tr>\n",
              "      <th>17890</th>\n",
              "      <td>3605941</td>\n",
              "      <td>0.0</td>\n",
              "      <td>1</td>\n",
              "    </tr>\n",
              "    <tr>\n",
              "      <th>17901</th>\n",
              "      <td>1807355</td>\n",
              "      <td>0.0</td>\n",
              "      <td>1</td>\n",
              "    </tr>\n",
              "    <tr>\n",
              "      <th>17907</th>\n",
              "      <td>1498559</td>\n",
              "      <td>1.0</td>\n",
              "      <td>1</td>\n",
              "    </tr>\n",
              "  </tbody>\n",
              "</table>\n",
              "<p>3582 rows × 3 columns</p>\n",
              "</div>"
            ],
            "text/plain": [
              "       entry_id  e_signed  predictions\n",
              "8       6493191       1.0            0\n",
              "9       8908605       1.0            0\n",
              "12      6889184       1.0            1\n",
              "16      9375601       0.0            1\n",
              "18      8515555       1.0            1\n",
              "31      2881357       0.0            0\n",
              "33      7048193       1.0            1\n",
              "37      5815308       1.0            1\n",
              "44      8700190       1.0            1\n",
              "45      8232654       0.0            1\n",
              "47      6017637       0.0            1\n",
              "48      9071675       0.0            1\n",
              "51      2718414       0.0            0\n",
              "60      1213384       1.0            1\n",
              "65      9217393       0.0            1\n",
              "69      1401385       0.0            0\n",
              "74      3385813       1.0            1\n",
              "88      3337988       1.0            0\n",
              "94      5646177       1.0            0\n",
              "103     6428253       1.0            0\n",
              "119     8739167       0.0            1\n",
              "122     9260893       0.0            0\n",
              "124     6989789       1.0            0\n",
              "127     5032836       0.0            0\n",
              "129     5770277       1.0            0\n",
              "134     9129594       1.0            0\n",
              "142     4488789       1.0            0\n",
              "146     3265474       1.0            0\n",
              "150     4867078       1.0            1\n",
              "154     5700559       1.0            1\n",
              "...         ...       ...          ...\n",
              "17779   2853843       0.0            1\n",
              "17781   9800690       1.0            1\n",
              "17796   8721355       0.0            0\n",
              "17805   3386085       1.0            1\n",
              "17811   6775612       0.0            1\n",
              "17813   4985718       1.0            0\n",
              "17814   2864796       0.0            1\n",
              "17815   5737298       1.0            1\n",
              "17820   4274110       1.0            1\n",
              "17831   6093659       0.0            1\n",
              "17835   7083364       1.0            1\n",
              "17846   2040701       0.0            0\n",
              "17847   7100904       1.0            1\n",
              "17850   5038970       1.0            1\n",
              "17854   8092654       1.0            1\n",
              "17857   7045673       1.0            1\n",
              "17864   7997931       0.0            1\n",
              "17865   5946920       0.0            1\n",
              "17866   3275691       1.0            1\n",
              "17867   8990324       1.0            1\n",
              "17871   2247736       1.0            0\n",
              "17875   4736767       1.0            1\n",
              "17876   3749453       0.0            0\n",
              "17877   9192574       0.0            0\n",
              "17880   3620673       1.0            0\n",
              "17881   5028251       1.0            1\n",
              "17888   8958068       0.0            0\n",
              "17890   3605941       0.0            1\n",
              "17901   1807355       0.0            1\n",
              "17907   1498559       1.0            1\n",
              "\n",
              "[3582 rows x 3 columns]"
            ]
          },
          "metadata": {
            "tags": []
          },
          "execution_count": 35
        }
      ]
    },
    {
      "cell_type": "code",
      "metadata": {
        "id": "PHbO8wGceCYk",
        "colab_type": "code",
        "colab": {}
      },
      "source": [
        ""
      ],
      "execution_count": 0,
      "outputs": []
    }
  ]
}